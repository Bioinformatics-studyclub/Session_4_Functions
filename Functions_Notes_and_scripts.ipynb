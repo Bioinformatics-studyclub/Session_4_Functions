{
 "cells": [
  {
   "cell_type": "markdown",
   "metadata": {},
   "source": [
    "<h1><center>Writing Functions</center></h1>"
   ]
  },
  {
   "cell_type": "markdown",
   "metadata": {},
   "source": [
    "Let's first practice some things we learnt in the previous chapters"
   ]
  },
  {
   "cell_type": "markdown",
   "metadata": {},
   "source": [
    "<div class=\"panel panel-alert\">\n",
    "    \n",
    "_Mini Exercise:_ **Write a mini Python script and run it**\n",
    "\n",
    "1. Open your Python IDE or a text editor like `gedit`. \n",
    "\n",
    "2. Write a script that contains a DNA sequence `ATtATTAtT` stored in a variable name, `my_dna`.\n",
    "\n",
    "3. Write a mini algorithm that calculates the `AT` content of the sequence. \n",
    "\n",
    "**WARNING**: I'm not asking for the proportion of As + Ts, but the proportion of ATs\n",
    "\n",
    "4. Save the script on your Desktop with the script name, `count_AT.py`.\n",
    "\n",
    "5. In your commandline, navigate to your Desktop\n",
    "\n",
    "6. Call the script from your Desktop using `python count_AT.py`\n"
   ]
  },
  {
   "cell_type": "code",
   "execution_count": null,
   "metadata": {},
   "outputs": [],
   "source": [
    "\n",
    "# I wrote the following script and saved it on my Desktop as file name `count_AT.py`\n",
    "\n",
    "my_dna = 'ATtATTAtT'\n",
    "my_dna=  my_dna.upper()\n",
    "\n",
    "\n",
    "count_AT = my_dna.count(\"AT\")/len(my_dna)\n",
    "print (count_AT)"
   ]
  },
  {
   "cell_type": "code",
   "execution_count": null,
   "metadata": {},
   "outputs": [],
   "source": [
    "# this is how you can call a python script from jupyter\n",
    "# obviously in this case, it doesn't make much sense to do it\n",
    "# because you could have just typed it into this notebook\n",
    "# but this is just to practice saving a python script\n",
    "# and running a python script\n",
    "\n",
    "# in your terminal or from your IDE, you will not use the exclamation mark \n",
    "# in front of the word python\n",
    "# Also, if you don't want to type the entire path to your python file\n",
    "# you can navigate to the directory first using\n",
    "# cd ~/Desktop\n",
    "# and then call the file straight from there using: `python count_AT.py`\n",
    "\n",
    "!python /home/tracey/Desktop/count_AT.py\n"
   ]
  },
  {
   "cell_type": "markdown",
   "metadata": {},
   "source": [
    "<div class=\"alert alert-block alert-info\">\n",
    "\n",
    "#### How to use this notebook\n"
   ]
  },
  {
   "cell_type": "markdown",
   "metadata": {},
   "source": [
    "> To run a block of code, go to the block code you want to run and click:\n",
    "\n",
    "`Control` + `Enter` \n",
    "\n",
    "    or\n",
    "\n",
    "`Shift` + `Enter`"
   ]
  },
  {
   "cell_type": "markdown",
   "metadata": {},
   "source": [
    "> If you've gone through the entire notebook and you've run all the blocks of code,\n",
    "but you wish to clear all the code, so that you can start fresh, then go to the top of this page, in the grey ribbon/toolbar and click on:\n",
    "\n",
    "1. `Cell`\n",
    "\n",
    "2. ` All Output`\n",
    "\n",
    "3. `Clear`\n",
    "\n",
    "> This will leave you with a fresh notebook to start from scratch"
   ]
  },
  {
   "cell_type": "markdown",
   "metadata": {},
   "source": [
    "<div class=\"alert alert-block alert-danger\">\n",
    "Remember that if you get an error that some variable is not defined, it might be that you forgot to run the block of code where that variable was being defined for the first time\n",
    "<br> \n",
    " \n",
    "So run that block of code FIRST"
   ]
  },
  {
   "cell_type": "markdown",
   "metadata": {},
   "source": [
    "### What is a function?\n",
    "\n",
    "Today, we will be exploring **Functions.** \n",
    "\n",
    "1. We will first look at the structure of functions.\n",
    "\n",
    "2. Then we will see why and when they are useful.\n",
    "\n",
    "3. We will also look at how to optimize functions\n"
   ]
  },
  {
   "cell_type": "markdown",
   "metadata": {},
   "source": [
    "### The syntax for defining a GOOD function consists of 5 parts:\n",
    "\n",
    "<br>\n",
    "<br>\n",
    "\n",
    "\n",
    "```ruby\n",
    "def function_name(argument(s)): # the bracket/parenthesis may be left blank\n",
    "    body_of_your_code\n",
    "    return   \n",
    "```    \n",
    "\n",
    "\n",
    "**1.** A function always starts with the keyword **`def`**, followed by \n",
    "\n",
    "**2.** The name of the function (**`function_name`**); followed by \n",
    "\n",
    "**3.** Open brackets/parenthesis **`( )`** and \n",
    "\n",
    "**4.** A **`colon`**.\n",
    "\n",
    "Inside the brackets, you may want to further refine the function by adding an **argument(s)** - also called a **parameter(s)**. But you may also leave it blank. \n",
    "\n",
    "A function may contain many **indented lines** that adds more complexity to the function (**_body_**) \n",
    "\n",
    "\n",
    "\n",
    "**5.** It usually ends with a **`return`** statement, which signals that the end of the function has been reached. \n",
    "Whatever follows the **`return`** (called the **return value**) is executed, together with any other **`print`** statements which may be inside the body of the function.\n",
    "\n",
    "<br>\n",
    "<br>\n",
    "\n",
    "**1. Example of the simplest function -  WITHOUT a body**\n",
    "\n",
    "![image indexing](https://bham-carpentries.github.io/2019-02-13-bham_python-novice-inflammation/fig/python-function.svg)\n",
    "\n",
    "[Find link to image here](https://bham-carpentries.github.io/2019-02-13-bham_python-novice-inflammation/09-func/index.html)\n",
    "\n",
    "<br>\n",
    "<br>\n",
    "\n",
    "**2. Example of function WITH a body**\n",
    "\n",
    "\n",
    "![image indexing](https://cdn.askpython.com/wp-content/uploads/2019/06/python-functions.png.webp)\n",
    "\n",
    "[Find link to image here](https://www.askpython.com/python/python-functions)\n",
    "\n"
   ]
  },
  {
   "cell_type": "markdown",
   "metadata": {},
   "source": [
    "### How do I, Tracey, write a function?\n",
    "\n",
    "> I normally first create the **body** of the function - which is the **logic** behind the function. Or what I want to function to do. See below:"
   ]
  },
  {
   "cell_type": "code",
   "execution_count": null,
   "metadata": {},
   "outputs": [],
   "source": [
    "# So if I needed the A + T content of a sequence, \n",
    "# I know I would need to calculate the following:\n",
    "\n",
    "my_dna = 'TTACCGAGGAATCCAA'\n",
    "\n",
    "a_count = dna.count('A')\n",
    "t_count = dna.count('T')\n",
    "length = len(dna)\n",
    "at_content = (a_count + t_count) / length\n"
   ]
  },
  {
   "cell_type": "markdown",
   "metadata": {},
   "source": [
    ">Next I would change it to the required syntax, by adding the **`def`**, naming the function and adding the **`return()`**\n",
    "Also make sure I follow the proper **indendation** after the colon"
   ]
  },
  {
   "cell_type": "code",
   "execution_count": null,
   "metadata": {},
   "outputs": [],
   "source": [
    "def calculate_AT_content(dna): # def is short for define\n",
    "    a_count = dna.count('A')\n",
    "    t_count = dna.count('T')\n",
    "    length = len(dna)\n",
    "    at_content = (a_count + t_count) / length\n",
    "    #what is it that you eventually want from this sequence of dna? The AT content, right? \n",
    "    #So tell it to return that \n",
    "    return (at_content)\n"
   ]
  },
  {
   "cell_type": "markdown",
   "metadata": {},
   "source": [
    "> I can now use the **`calculate_AT_content(dna)`** FUNCTION I created and **call** the function with the required argument\n",
    "\n",
    "> **Calling** the function means that it is now going to be used and it will store a value\n",
    "\n"
   ]
  },
  {
   "cell_type": "code",
   "execution_count": null,
   "metadata": {},
   "outputs": [],
   "source": [
    "my_dna = 'ACTGATCGATTACGTATAGTATTTGCTATCATACATATATATCGATGCGTTCAT' # this is the dna you want the AT content of\n",
    "\n",
    "# this is how you would use the function we created above called `calculate_AT_content(dna)`\n",
    "# but we will store it in a variable name `my_at_content`\n",
    "\n",
    "calculate_AT_content(dna) # function\n",
    "\n",
    "my_at_content = calculate_AT_content(my_dna) \n",
    "\n"
   ]
  },
  {
   "cell_type": "markdown",
   "metadata": {},
   "source": [
    "\n",
    "> But just because you used the function, does not mean that you will see any output\n",
    "\n",
    "> You have to print the results"
   ]
  },
  {
   "cell_type": "code",
   "execution_count": null,
   "metadata": {},
   "outputs": [],
   "source": [
    "\n",
    "print (my_at_content) "
   ]
  },
  {
   "cell_type": "markdown",
   "metadata": {},
   "source": [
    "> #### But his is a very restricted function\n",
    "_What if you want the function to be more versatile? You want to be able to choose the nucleotides for which you want to calculate the content, instead of the function assuming that you want the ratio of A + T_"
   ]
  },
  {
   "cell_type": "code",
   "execution_count": null,
   "metadata": {},
   "outputs": [],
   "source": [
    "# Here you are changing the fixed nucleotides **A** and **T**, \n",
    "# and replacing them with variable names first_nucl and sec_nucl\n",
    "\n",
    "def calculate_AT_content(dna): # def is short for define\n",
    "    a_count = dna.count('A')\n",
    "    t_count = dna.count('T')\n",
    "    length = len(dna)\n",
    "    at_content = (a_count + t_count) / length\n",
    "    #what is it that you eventually want from this sequence of dna? The AT content, right? \n",
    "    #So tell it to return that \n",
    "    return (at_content)\n",
    "\n",
    "_______________________________________________________\n",
    "\n",
    "def nucleotide_content(first_nucl, sec_nucl, dna):\n",
    "    first_nucl_count = dna.count(first_nucl)\n",
    "    sec_nucl_count = dna.count(sec_nucl)\n",
    "    length = len(dna)\n",
    "    at_content = (first_nucl_count  + sec_nucl_count) / length\n",
    "    return (at_content)\n",
    "\n"
   ]
  },
  {
   "cell_type": "code",
   "execution_count": null,
   "metadata": {},
   "outputs": [],
   "source": [
    "nucleotide_content()"
   ]
  },
  {
   "cell_type": "markdown",
   "metadata": {},
   "source": [
    "> Now the user needs to put in **three arguments**. \n",
    "\n",
    "> The **two nucleotides** they require, as well as their **dna sequence**"
   ]
  },
  {
   "cell_type": "code",
   "execution_count": null,
   "metadata": {},
   "outputs": [],
   "source": [
    "# We've decided we want the GC content\n",
    "# Now let's call the function with the required arguments. \n",
    "\n",
    "my_dna = 'ACTGATCGATTACGTATAGTATTTGCTATCATACATATATATCGATGCGTTCAT'\n",
    "my_nucleotide_content = nucleotide_content(\"G\",\"C\",my_dna)\n",
    "print(my_nucleotide_content)"
   ]
  },
  {
   "cell_type": "code",
   "execution_count": null,
   "metadata": {},
   "outputs": [],
   "source": [
    "my_dna = 'ACTGATCGATTACGTATAGTATTTGCTATCATACATATATATCGATGCGTTCAT'\n",
    "\n",
    "\n",
    "my_nucleotide_content = nucleotide_content(\"g\",\"c\",my_dna)\n",
    "print(my_nucleotide_content)"
   ]
  },
  {
   "cell_type": "markdown",
   "metadata": {},
   "source": [
    "<div class=\"alert alert-block alert-info\">\n",
    "\n",
    "### Improve your function\n"
   ]
  },
  {
   "cell_type": "markdown",
   "metadata": {},
   "source": [
    "> What happens when the input sequence is in lower case?"
   ]
  },
  {
   "cell_type": "code",
   "execution_count": null,
   "metadata": {},
   "outputs": [],
   "source": [
    "# Run this code. \n",
    "# This will not work properly, because the dna sequence is in lower case but \n",
    "# the input nucleotides are in upper case. So there is NO match\n",
    "\n",
    "def nucleotide_content(first_nucl, sec_nucl, dna):\n",
    "    first_nucl_count = dna.count(first_nucl)\n",
    "    sec_nucl_count = dna.count(sec_nucl)\n",
    "    length = len(dna)\n",
    "    at_content = (first_nucl_count  + sec_nucl_count) / length\n",
    "    return (at_content)\n",
    "\n",
    "dna = 'atcggtccaagctactag'\n",
    "nucleotide_content(\"G\",\"T\",dna)"
   ]
  },
  {
   "cell_type": "markdown",
   "metadata": {},
   "source": [
    "> Make the function account for a lower case dna sequence as input."
   ]
  },
  {
   "cell_type": "code",
   "execution_count": null,
   "metadata": {},
   "outputs": [],
   "source": [
    "def nucleotide_content(first_nucl, sec_nucl, dna):\n",
    "    dna = dna.upper()\n",
    "    first_nucl_count = dna.count(first_nucl) \n",
    "    sec_nucl_count = dna.count(sec_nucl) \n",
    "    length = len(dna)\n",
    "    at_content = (first_nucl_count  + sec_nucl_count) / length\n",
    "    return (at_content)\n",
    "\n",
    "dna ='atcggtccaagctactag'\n",
    "nucleotide_content(\"G\",\"T\",dna)"
   ]
  },
  {
   "cell_type": "markdown",
   "metadata": {},
   "source": [
    "> That works. But what if the nucleotides used as arguments are in lower case?\n",
    "> So let's account for this as well"
   ]
  },
  {
   "cell_type": "code",
   "execution_count": null,
   "metadata": {},
   "outputs": [],
   "source": [
    "def nucleotide_content(first_nucl, sec_nucl, dna):\n",
    "#     dna = dna.upper()\n",
    "    first_nucl_count = dna.upper().count(first_nucl.upper()) # add \".upper()\" to the nucleotide argument\n",
    "    sec_nucl_count = dna.upper().count(sec_nucl.upper()) # add \".upper()\" to the nucl argument\n",
    "    length = len(dna)\n",
    "    at_content = (first_nucl_count  + sec_nucl_count) / length\n",
    "    return (at_content)\n",
    "\n",
    "dna = 'atcggtccaagctactag'\n",
    "nucleotide_content(\"g\",\"t\",dna)"
   ]
  },
  {
   "cell_type": "markdown",
   "metadata": {},
   "source": [
    "> That's great. But I don't like the long number as output. \n",
    "> Let's **round** it off at the end. \n",
    "> But rounding it off will give a **0** as output. So let's \n",
    "\n",
    "> _Round it off to **2 significant figures**_"
   ]
  },
  {
   "cell_type": "code",
   "execution_count": null,
   "metadata": {},
   "outputs": [],
   "source": [
    "# Round it off at the end...at the return value\n",
    "\n",
    "def nucleotide_content(first_nucl, sec_nucl, dna):\n",
    "    first_nucl_count = dna.upper().count(first_nucl.upper())\n",
    "    sec_nucl_count = dna.upper().count(sec_nucl.upper())\n",
    "    length = len(dna)\n",
    "    at_content = (first_nucl_count  + sec_nucl_count) / length\n",
    "    return round(at_content, 2) # So we've added *round* AND we've added 2 sig. figures\n",
    "\n",
    "dna = 'ACTGATCGATTACGTATAGTATTTGCTATCATACATATATATCGATGCGTTCAT'\n",
    "nucleotide_content(\"G\",\"A\",dna)\n"
   ]
  },
  {
   "cell_type": "markdown",
   "metadata": {},
   "source": [
    "> #### What if the user complains that they sometimes need more significant figures\n",
    "> _Let them decide the number of significant figures they want to use as an argument_"
   ]
  },
  {
   "cell_type": "code",
   "execution_count": null,
   "metadata": {},
   "outputs": [],
   "source": [
    "def nucleotide_content(first_nucl, sec_nucl, dna, sig_figs): # add an additional argument \"sig_figs\"\n",
    "    first_nucl_count = dna.upper().count(first_nucl.upper())\n",
    "    sec_nucl_count = dna.upper().count(sec_nucl.upper())\n",
    "    length = len(dna)\n",
    "    at_content = (first_nucl_count  + sec_nucl_count) / length\n",
    "    return round(at_content, sig_figs) # now when the user puts in a 5, for example, sig_figs takes on the number 5 here\n",
    "\n",
    "dna = 'ACTGATCGATTACGTATAGTATTTGCTATCATACATATATATCGATGCGTTCAT'\n",
    "nucleotide_content(\"G\",\"A\",dna,5) # user now stipulates that they want it rounded off to 5 \n",
    "                                    # significant figures\n"
   ]
  },
  {
   "cell_type": "markdown",
   "metadata": {},
   "source": [
    "<div class=\"alert alert-block alert-success\">\n",
    "Notice a trend. \n",
    "\n",
    "We add everything in the arguments that the user wants to have control over"
   ]
  },
  {
   "cell_type": "markdown",
   "metadata": {
    "collapsed": true
   },
   "source": [
    "#### Default values (arguments)\n",
    "\n",
    "> What if the user does not care about the number of significant figures?\n",
    "> Leaving it out would cause an **error**. \n"
   ]
  },
  {
   "cell_type": "code",
   "execution_count": null,
   "metadata": {},
   "outputs": [],
   "source": [
    "def nucleotide_content(first_nucl, sec_nucl, dna, sig_figs): # add an additional argument \"sig_figs\"\n",
    "    first_nucl_count = dna.upper().count(first_nucl.upper())\n",
    "    sec_nucl_count = dna.upper().count(sec_nucl.upper())\n",
    "    length = len(dna)\n",
    "    at_content = (first_nucl_count  + sec_nucl_count) / length\n",
    "    return round(at_content, sig_figs) # now when the user puts in a 5, for example, sig_figs takes on the number 5 here\n",
    "\n",
    "dna = 'ACTGATCGATTACGTATAGTATTTGCTATCATACATATATATCGATGCGTTCAT'\n",
    "nucleotide_content(\"G\",\"A\",dna) # user gave no option for SF"
   ]
  },
  {
   "cell_type": "markdown",
   "metadata": {},
   "source": [
    "> So let's give the significant figures a **default value**"
   ]
  },
  {
   "cell_type": "code",
   "execution_count": null,
   "metadata": {},
   "outputs": [],
   "source": [
    "# Now by default it will round off to two sig. fig, \n",
    "# unless the user specifies otherwise as an argument\n",
    "\n",
    "def nucleotide_content(first_nucl, sec_nucl, dna, sig_figs = 2):  # instead of forcing the user to add their sig_fig, the user can choose to leave tout that argument and the function will by DEFAULT use 2.                                                                       \n",
    "    dna = dna.upper()\n",
    "    first_nucl_count = dna.upper().count(first_nucl.upper())\n",
    "    sec_nucl_count = dna.upper().count(sec_nucl.upper())\n",
    "    length = len(dna)\n",
    "    at_content = (first_nucl_count  + sec_nucl_count) / length\n",
    "    return round(at_content, sig_figs)\n",
    "\n",
    "dna = 'ACTGATCGATTACGTATAGTATTTGCTATCATACATATATATCGATGCGTTCAT'\n",
    "nucleotide_content(\"G\",\"A\",dna, 3)"
   ]
  },
  {
   "cell_type": "markdown",
   "metadata": {
    "collapsed": true
   },
   "source": [
    "<div class=\"alert alert-block alert-warning\">\n",
    "\n",
    "### Benefits of Functions\n",
    "#### 1. Allows us to re-use the same code many times within a program without having to copy it each time\n",
    "So you don't have to keep scrolling up to find that 6 lines of code you need to calculate the AT content and then make sure you always copy it accurately\n",
    "#### 2. if we find that we have to make a change to the code, we only have to do it in one place.\n",
    "Because the function is written in one place, we don't have to go to each section where we copied those 6 lines to make a correction or change\n",
    "####  3. Splitting our code into functions also allows us to tackle larger problems, as we can work on different bits of the code independently. \n",
    "We know that something like print (), open(your_file, \"w\"), have been thoroughly tested and the code works. The same with functions that you wrote, that have been thoroughly tested by you. If we then have to troubleshoot, we know we can skip over checking the functions that we know work, for errors and focus on the other parts of your code that may contain the bug. \n",
    "####  4. We can also re-use code across multiple programs.\n",
    "Examples are again, print() and open(file_name). It's somewhere in the programming language, ready for you to use it as needed. But you could also save your **`at_content()`** function in another file called, eg. **genomic_sequen_tools.py** (in same directory). \n",
    "Whenever you want to use the at_content() function, you could say \n",
    "**`from genomic_sequence_tools import at_content`**"
   ]
  },
  {
   "cell_type": "markdown",
   "metadata": {},
   "source": [
    "> Imagine you had some code where you are reuire to work out the AT content a few times\n",
    "\n",
    ".....................(some code)\n",
    "\n",
    ".....................(some code)\n",
    "\n",
    ".........................(some code)\n",
    "\n",
    "\n",
    "\n",
    "```ruby\n",
    "\n",
    "a_count = dna.count('A')\n",
    "\n",
    "t_count = dna.count('T')\n",
    "\n",
    "length = len(dna)\n",
    "\n",
    "at_content = (a_count + t_count) / length\n",
    "\n",
    "```\n",
    "\n",
    "\n",
    ".....................(some code)\n",
    "\n",
    ".....................(some code)\n",
    "\n",
    ".........................(some code)\n",
    "\n",
    "\n",
    "```ruby\n",
    "\n",
    "a_count = dna.count('A')\n",
    "\n",
    "t_count = dna.count('T')\n",
    "\n",
    "length = len(dna)\n",
    "\n",
    "at_content = (a_count + t_count) / length\n",
    "\n",
    "```\n",
    "\n",
    "\n"
   ]
  },
  {
   "cell_type": "markdown",
   "metadata": {},
   "source": [
    "> Now imagine you had this block of code to calculate the AT content 10x throughout your code, and you discovered it was supposed to be the GC content. \n",
    "\n",
    "> You would have to find it and replace it, which could be error-prone\n",
    "\n",
    "> But if the function was written on top somewhere and you just call the function 10x\n",
    "\n",
    "> You would only need to chage the \"A\" and \"T\" 1x in the original function.\n",
    "\n",
    "> And even better, if you write the function so that the user can choose the nucleotides\n",
    "\n",
    "> A good function is **flexible**"
   ]
  },
  {
   "cell_type": "markdown",
   "metadata": {},
   "source": [
    "> For example:\n",
    "    \n",
    "> You previously created the function:\n",
    "\n",
    "> **`nucleotide_content(first_nucl, sec_nucl, dna, sig_figs = 2)`**\n",
    "\n",
    "> I've taken the liberty to store this function on my Desktop in a file called `count_nucleotide.py`\n",
    "\n",
    "> I can now **import** that file as a **module**"
   ]
  },
  {
   "cell_type": "code",
   "execution_count": null,
   "metadata": {},
   "outputs": [],
   "source": [
    "# since the file is on my Desktop, I need to navigate there\n",
    "\n",
    "%cd /home/tracey/Desktop/ \n",
    "\n",
    "import count_nucleotide # I import is as a module with the\n",
    "                        # name of the file without the .py extension\n",
    "    \n",
    "    \n",
    "\n",
    "# now I use the same DNA string as before. Or it could even be a sequence in a file\n",
    "dna = 'ACTGATCGATTACGTATAGTATTTGCTATCATACATATATATCGATGCGTTCAT' \n",
    "nucleotide_content(\"G\",\"A\",dna) # I call the function which I named `nucleotide_content`,\n",
    "                                # together with its reuired parameters\n",
    "\n"
   ]
  },
  {
   "cell_type": "markdown",
   "metadata": {},
   "source": [
    "<div class=\"alert alert-block alert-success\">\n",
    "\n",
    "### Testing functions\n",
    "_Running code on a test input and comparing the result to an answer\n",
    "that we know to be correct_\n",
    "\n",
    "##### What if your function just happens to return a result that seems correct. For example:"
   ]
  },
  {
   "cell_type": "code",
   "execution_count": null,
   "metadata": {},
   "outputs": [],
   "source": [
    "def check_if_num_in (the_list, my_number):    \n",
    "\n",
    "    for item in the_list:\n",
    "        if my_number in item:\n",
    "            return (\"I'm in here\", item)\n",
    "        \n",
    "        \n",
    "num_list = [\"1245\", \"6587\", \"335633\", \"49\"]        \n",
    "check_if_num_in (num_list, \"33\" )\n",
    "\n",
    "\n",
    "\n"
   ]
  },
  {
   "cell_type": "markdown",
   "metadata": {},
   "source": [
    "> This happens to return a result because \"33\" is in \"335633.\" So if you had a long list where you could not see all the items, you would assume that the string 33 is in the list\n",
    "\n",
    "#### So we need to create some tests for Python, so that it has a means to evaluate that your function is in fact returning a correct result\n",
    "\n",
    "> The test syntax is:  `assert my_function() == correct_result`"
   ]
  },
  {
   "cell_type": "code",
   "execution_count": null,
   "metadata": {},
   "outputs": [],
   "source": [
    "\n",
    "def nucleotide_content(first_nucl, sec_nucl, dna, sig_figs = 2): \n",
    "    dna = dna.upper()\n",
    "    first_nucl_count = dna.upper().count(first_nucl.upper())\n",
    "    sec_nucl_count = dna.upper().count(sec_nucl.upper())\n",
    "    length = len(dna)\n",
    "    nucl_content = (first_nucl_count  + sec_nucl_count) / length\n",
    "    return round(nucl_content, sig_figs)\n",
    "\n",
    "\n",
    "\n",
    "# place a test here, with the correct result. This is like calling your function\n",
    "# but with the purpose to test it\n",
    "assert nucleotide_content(\"G\", \"C\", \"ATGC\") == 0.5  \n",
    "\n",
    "\n",
    "dna = 'ACTGATCGATTACGTATAGTATTTGCTATCATACATATATATCGATGCGTTCAT'\n",
    "nucleotide_content(\"G\",\"A\",dna)"
   ]
  },
  {
   "cell_type": "markdown",
   "metadata": {},
   "source": [
    "> The function **below** should **fail** the assertion test, because the GC content makes up more than 50% of the sequence"
   ]
  },
  {
   "cell_type": "code",
   "execution_count": null,
   "metadata": {},
   "outputs": [],
   "source": [
    "def nucleotide_content(first_nucl, sec_nucl, dna, sig_figs = 2): \n",
    "    dna = dna.upper()\n",
    "    first_nucl_count = dna.upper().count(first_nucl.upper())\n",
    "    sec_nucl_count = dna.upper().count(sec_nucl.upper())\n",
    "    length = len(dna)\n",
    "    nucl_content = (first_nucl_count  + sec_nucl_count) / length\n",
    "    return round(nucl_content, sig_figs)\n",
    "\n",
    "assert nucleotide_content(\"G\", \"C\", \"ATGC\") == 0.5\n",
    "assert nucleotide_content(\"G\", \"C\",\"ATGCNNNNNNNNNN\") == 0.5 \n",
    "# there are 14 nucleotides here, so GC = 2/14\n",
    "\n",
    "dna = 'ACTGATCGATTACGTATAGTATTTGCTATCATACATATATATCGATGCGTTCAT'\n",
    "nucleotide_content(\"G\",\"A\",dna)"
   ]
  },
  {
   "cell_type": "markdown",
   "metadata": {},
   "source": [
    "> Now you know that your function is not accounting for bases that do not conform to the norm.\n",
    "\n",
    "> So, you can make a decision from here to either ask the user to not include any other bases besides ATGC and U.\n",
    "\n",
    "> But this is unrealistic, so you can either create an **assertion test** for this scenario to work as well\n",
    "\n",
    "> Or you can modify the function to ignore the base if it is an \"n\" or an \"N\".\n",
    "\n",
    "> Let's take a look at both\n"
   ]
  },
  {
   "cell_type": "markdown",
   "metadata": {},
   "source": [
    "<div class = \"alert alert-block alert-danger\">\n",
    "\n",
    "<h3><center>WARNING!!</center></h3>\n",
    "\n",
    "\n",
    "THIS IS **NOT MATHEMATICALLY CORRECT**\n",
    "\n",
    "BECAUSE YOU CANNOT EXCLUDE THE Ns WHEN CALCULATING THE PERCENTAGE. \n",
    "    \n",
    "    \n",
    "THIS EXAMPLE IS JUST TO SHOW HOW THE ASSERTION TESTS WORK"
   ]
  },
  {
   "cell_type": "code",
   "execution_count": null,
   "metadata": {},
   "outputs": [],
   "source": [
    "# Ignore all non-specified nucleotides\n",
    "\n",
    "def nucleotide_content(first_nucl, sec_nucl, dna, sig_figs = 2): \n",
    "    dna = dna.replace(\"N\", \"\")\n",
    "    dna = dna.replace(\"n\", \"\")    \n",
    "    dna = dna.upper()\n",
    "    first_nucl_count = dna.upper().count(first_nucl.upper())\n",
    "    sec_nucl_count = dna.upper().count(sec_nucl.upper())\n",
    "    length = len(dna)\n",
    "    nucl_content = (first_nucl_count  + sec_nucl_count) / length\n",
    "    return round(nucl_content, sig_figs)\n",
    "\n",
    "assert nucleotide_content(\"G\", \"C\", \"ATGC\") == 0.5\n",
    "assert nucleotide_content(\"G\", \"C\",\"ATGCnnnnnnnnnn\") == 0.5 \n",
    "# there are 14 nucleotides here, so GC = 2/14\n",
    "\n",
    "dna = 'ACTGATCGATTACGTATAGTATTTGCTATCATACATATATATCGATGCGTTCATNNNN'\n",
    "nucleotide_content(\"G\",\"C\",dna)\n"
   ]
  },
  {
   "cell_type": "code",
   "execution_count": null,
   "metadata": {},
   "outputs": [],
   "source": [
    "# create an **assertion test** to account for other nucleotides\n",
    "\n",
    "def nucleotide_content(first_nucl, sec_nucl, dna, sig_figs = 2):\n",
    "    dna = dna.upper()   \n",
    "    first_nucl_count = dna.upper().count(first_nucl.upper())\n",
    "    sec_nucl_count = dna.upper().count(sec_nucl.upper())\n",
    "    length = len(dna)\n",
    "    nucl_content = (first_nucl_count  + sec_nucl_count) / length\n",
    "    return round(nucl_content, sig_figs)\n",
    "\n",
    "assert nucleotide_content(\"G\", \"C\", \"ATGC\") == 0.5\n",
    "assert nucleotide_content(\"G\", \"C\",\"ATGCnnnnnnnnnn\") == 0.14 \n",
    "# there are 14 nucleotides here, so GC = 2/14 = 0.14\n",
    "\n",
    "dna = 'ACTGATCGATTACGTATAGTATTTGCTATCATACATATATATCGATGCGTTCATNNNN'\n",
    "nucleotide_content(\"G\",\"C\",dna)\n"
   ]
  },
  {
   "cell_type": "markdown",
   "metadata": {},
   "source": [
    "> Ideally, you would want multiple assertion tests"
   ]
  },
  {
   "cell_type": "code",
   "execution_count": null,
   "metadata": {},
   "outputs": [],
   "source": [
    "def nucleotide_content(first_nucl, sec_nucl, dna, sig_figs = 2): \n",
    "    dna = dna.upper()   \n",
    "    first_nucl_count = dna.upper().count(first_nucl.upper())\n",
    "    sec_nucl_count = dna.upper().count(sec_nucl.upper())\n",
    "    length = len(dna)\n",
    "    nucl_content = (first_nucl_count  + sec_nucl_count) / length\n",
    "    return round(nucl_content, sig_figs)\n",
    "\n",
    "assert nucleotide_content(\"A\", \"T\", \"ATGC\") == 0.5            # (2/4 = 0.5)  \n",
    "assert nucleotide_content(\"A\", \"n\", \"AN\") == 1                # (2/2 = 1)\n",
    "assert nucleotide_content(\"A\", \"T\", \"ATGCGCCC\") == 0.25       # (2/8 = 0.25)\n",
    "assert nucleotide_content(\"A\", \"T\",\"ATGCnnnnnnnnnn\") == 0.14  # (2/14 = 0.14)\n",
    "\n",
    "\n",
    "\n",
    "dna = 'ACTGATCGATTACGTATAGTATTTGCTATCATACATATATATCGATGCGTTCAT'\n",
    "nucleotide_content(\"G\",\"A\",dna)"
   ]
  },
  {
   "cell_type": "markdown",
   "metadata": {},
   "source": [
    "<div class=\"alert alert-block alert-success\">\n",
    "\n",
    "## Exercises and Solutions"
   ]
  },
  {
   "cell_type": "markdown",
   "metadata": {},
   "source": [
    "### Exercise 1: Percentage of amino acid residues\n",
    "Write a function that takes two arguments – a protein sequence and an amino acid residue code – and returns the percentage of the protein that the amino acid makes up. \n",
    "\n",
    "Use the following assertions to test your function:\n",
    "\n",
    "\n",
    "assert my_function(\"MSRSLLLRFLLFLLLLPPLP\", \"M\") == 5\n",
    "\n",
    "assert my_function(\"MSRSLLLRFLLFLLLLPPLP\", \"r\") == 10\n",
    "\n",
    "assert my_function(\"MSRSLLLRFLLFLLLLPPLP\", \"L\") == 50\n",
    "\n",
    "assert my_function(\"MSRSLLLRFLLFLLLLPPLP\", \"Y\") == 0"
   ]
  },
  {
   "cell_type": "code",
   "execution_count": null,
   "metadata": {},
   "outputs": [],
   "source": [
    "def percent_aa(protein_seq, aa):\n",
    "      \n",
    "    aa = aa.upper()\n",
    "    protein_seq = protein_seq.upper()\n",
    "    aa_count = protein_seq.count(aa)\n",
    "    protein_length = len(protein_seq)\n",
    "    aa_percent = (aa_count/protein_length)*100 \n",
    "    return (aa_percent)\n",
    "\n",
    "\n",
    "assert percent_aa(\"MSRSLLLRFLLFLLLLPPLP\", \"M\") == 5\n",
    "assert percent_aa(\"MSRSLLLRFLLFLLLLPPLP\", \"r\") == 10\n",
    "assert percent_aa(\"MSRSLLLRFLLFLLLLPPLP\", \"L\") == 50\n",
    "assert percent_aa(\"MSRSLLLRFLLFLLLLPPLP\", \"Y\") == 0\n",
    "\n",
    "\n",
    "my_protein_seq = \"MSRSLLLRFLLFLLLLPPLP\"\n",
    "my_aa_percent = percent_aa(my_protein_seq, \"s\")   # [(2/20)*100]   = 10%\n",
    "print(my_aa_percent)\n",
    "\n"
   ]
  },
  {
   "cell_type": "markdown",
   "metadata": {},
   "source": [
    "### Exercise 2: Percentage of amino acid residues\n",
    "\n",
    "Modify the function from Exercise 1 so that it accepts a list of amino acid residues rather than a single one. If no list is given, the function should return the percentage of hydrophobic amino acid residues (A, I, L, M, F, W, Y and V). \n",
    "\n",
    "Your function should pass the following assertions:\n",
    "\n",
    "\n",
    "assert my_function(\"MSRSLLLRFLLFLLLLPPLP\", [\"M\"]) == 5\n",
    "\n",
    "assert my_function(\"MSRSLLLRFLLFLLLLPPLP\", ['M', 'L']) == 55\n",
    "\n",
    "assert my_function(\"MSRSLLLRFLLFLLLLPPLP\", ['F', 'S', 'L']) == 70\n",
    "\n",
    "assert my_function(\"MSRSLLLRFLLFLLLLPPLP\") == 65"
   ]
  },
  {
   "cell_type": "code",
   "execution_count": null,
   "metadata": {},
   "outputs": [],
   "source": [
    "def percent_aa(protein_seq, aa_list=['A','I','L','M','F','W','Y','V']):\n",
    "  \n",
    "    protein_seq = protein_seq.upper()\n",
    "    protein_length = len(protein_seq)\n",
    "    total = 0\n",
    "    for aa in aa_list:\n",
    "        aa = aa.upper()\n",
    "        aa_count = protein_seq.count(aa)\n",
    "        total = total + aa_count\n",
    "#         print(total)\n",
    "    aa_percentage = total * 100 / protein_length\n",
    "    return (aa_percentage)\n",
    "\n",
    "assert percent_aa(\"MSRSLLLRFLLFLLLLPPLP\", [\"M\"]) == 5\n",
    "assert percent_aa(\"MSRSLLLRFLLFLLLLPPLP\", [\"M\", \"L\"]) == 55\n",
    "assert percent_aa(\"MSRSLLLRFLLFLLLLPPLP\", [\"F\", \"S\", \"L\"]) == 70\n",
    "assert percent_aa(\"MSRSLLLRFLLFLLLLPPLP\") == 65\n",
    "\n",
    "my_protein_seq = \"MSRSLLLRFLLFLLLLPPLP\"\n",
    "my_list = [\"R\", \"p\"]\n",
    "my_aa_percent = percent_aa(my_protein_seq, my_list)\n",
    "print(my_aa_percent)\n",
    "    \n"
   ]
  },
  {
   "cell_type": "code",
   "execution_count": null,
   "metadata": {},
   "outputs": [],
   "source": [
    "# This is the body outside the loop\n",
    "# to show how this loop will add up the values\n",
    "# move the print() statement around to see how your output will differ\n",
    "protein_seq = \"MSRSLLLRFLLFLLLLPPLP\"\n",
    "aa_list=['A','I','L','m','F','W','Y','V']\n",
    "total = 0\n",
    "for aa in aa_list:\n",
    "    aa = aa.upper()\n",
    "    aa_count = protein_seq.count(aa)\n",
    "    total = total + aa_count\n",
    "    print(total)\n",
    "    \n"
   ]
  },
  {
   "cell_type": "markdown",
   "metadata": {},
   "source": [
    "   # THE END"
   ]
  }
 ],
 "metadata": {
  "anaconda-cloud": {},
  "kernelspec": {
   "display_name": "Python 3",
   "language": "python",
   "name": "python3"
  },
  "language_info": {
   "codemirror_mode": {
    "name": "ipython",
    "version": 3
   },
   "file_extension": ".py",
   "mimetype": "text/x-python",
   "name": "python",
   "nbconvert_exporter": "python",
   "pygments_lexer": "ipython3",
   "version": "3.7.3"
  }
 },
 "nbformat": 4,
 "nbformat_minor": 2
}
